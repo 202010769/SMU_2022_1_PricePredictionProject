{
 "cells": [
  {
   "cell_type": "code",
   "execution_count": 1,
   "id": "9da99dc7",
   "metadata": {},
   "outputs": [
    {
     "name": "stderr",
     "output_type": "stream",
     "text": [
      "Python 3.6.5 :: Anaconda, Inc.\n"
     ]
    }
   ],
   "source": [
    "!python --version"
   ]
  },
  {
   "cell_type": "code",
   "execution_count": 2,
   "id": "50f89d5d",
   "metadata": {},
   "outputs": [],
   "source": [
    "#신경망구축에 필요한 tensorflow\n",
    "#라이브러리와 numpy 그리고 시각화도구\n",
    "#matplotlib를 import 한다.\n",
    "import tensorflow as tf\n",
    "import numpy as np\n",
    "import matplotlib.pyplot as plt\n",
    "\n",
    "#Variable의 랜덤함수 시드를 설정한다.\n",
    "tf.set_random_seed(777) #변경한 버전에서는 랜덤시드 사용 불가능해서 주석처리함."
   ]
  },
  {
   "cell_type": "code",
   "execution_count": 3,
   "id": "7ea62af8",
   "metadata": {},
   "outputs": [
    {
     "name": "stdout",
     "output_type": "stream",
     "text": [
      "1.15.0\n"
     ]
    }
   ],
   "source": [
    "print(tf.__version__)"
   ]
  },
  {
   "cell_type": "code",
   "execution_count": 4,
   "id": "d99852cb",
   "metadata": {},
   "outputs": [],
   "source": [
    "#MinMaxScaler 정의 -> data를 0부터 1사이의 값으로 변환(normalize)\n",
    "def MinMaxScaler(data):\n",
    "    numerator = data - np.min(data, 0)\n",
    "    denominator = np.max(data, 0) - np.min(data, 0)\n",
    "    return numerator / (denominator + 1e-7)"
   ]
  },
  {
   "cell_type": "code",
   "execution_count": 5,
   "id": "b26d27d4",
   "metadata": {},
   "outputs": [],
   "source": [
    "#train Parameter 상수값 설정\n",
    "seq_length = 7 #7일 단위로 학습시키고 8일째를 예측\n",
    "input_dim = 14 #input 데이터의 개수\n",
    "hidden_dim = 16 #은닉층의 개수\n",
    "output_dim = 1 # target label의 개수(배추가격)\n",
    "learning_rate = 0.01\n",
    "iterations = 10001"
   ]
  },
  {
   "cell_type": "code",
   "execution_count": 6,
   "id": "0afdbee2",
   "metadata": {},
   "outputs": [],
   "source": [
    "#값 설정이 끝나면 위에서 만든 데이터 셋을 불러온다. 그 후 데이터양에 따라 적절하게 Training Data와 Test Data로 분할한다.\n",
    "#data load\n",
    "#만들어둔 데이터셋을 Load한다.\n",
    "xy = np.loadtxt('./apple_data.csv', delimiter=',')\n",
    "xy = MinMaxScaler(xy) #Normalize\n",
    "x = xy #전체 데이터(input)\n",
    "y = xy[:,[-1]] #target Label(사과가격)"
   ]
  },
  {
   "cell_type": "code",
   "execution_count": 7,
   "id": "e9a67968",
   "metadata": {},
   "outputs": [],
   "source": [
    "#build dataset\n",
    "#Normalize가 끝난 데이터를 7일단위로 슬라이스 해서 3차원형태로 만든다.\n",
    "dataX = []\n",
    "dataY = []\n",
    "for i in range(0, len(y) - seq_length):\n",
    "    _x = x[i: i+seq_length]\n",
    "    _y = y[i+seq_length]\n",
    "    dataX.append(_x)\n",
    "    dataY.append(_y)\n",
    "#train/test set 나누기\n",
    "train_size = int(len(dataY) * 0.7) #train size = 70%\n",
    "test_size = len(dataY) - train_size #test size = 30%\n",
    "trainX, testX = np.array(dataX[0:train_size]), np.array(dataX[train_size:len(dataX)])\n",
    "trainY, testY = np.array(dataY[0:train_size]), np.array(dataY[train_size:len(dataY)])"
   ]
  },
  {
   "cell_type": "code",
   "execution_count": 8,
   "id": "5f49a3d9",
   "metadata": {},
   "outputs": [],
   "source": [
    "# 데이터 셋 분할이 끝났으면 해당 데이터를 받을 Placeholder와 인공신경망 구조인 LSTM을 구축한다.\n",
    "\n",
    "#input placeholders\n",
    "#input placeholder의 파라미터로 seq_length,input_dim를 넘겨준다.\n",
    "X = tf.placeholder(tf.float32, [None, seq_length, input_dim]) #3차원 형태의 input placeholder\n",
    "Y = tf.placeholder(tf.float32, [None, 1]) #2차원 형태의 output placeholder"
   ]
  },
  {
   "cell_type": "code",
   "execution_count": 9,
   "id": "b481c044",
   "metadata": {},
   "outputs": [
    {
     "name": "stdout",
     "output_type": "stream",
     "text": [
      "WARNING:tensorflow:\n",
      "The TensorFlow contrib module will not be included in TensorFlow 2.0.\n",
      "For more information, please see:\n",
      "  * https://github.com/tensorflow/community/blob/master/rfcs/20180907-contrib-sunset.md\n",
      "  * https://github.com/tensorflow/addons\n",
      "  * https://github.com/tensorflow/io (for I/O related ops)\n",
      "If you depend on functionality not listed there, please file an issue.\n",
      "\n",
      "WARNING:tensorflow:From <ipython-input-9-ed883d967b89>:3: BasicLSTMCell.__init__ (from tensorflow.python.ops.rnn_cell_impl) is deprecated and will be removed in a future version.\n",
      "Instructions for updating:\n",
      "This class is equivalent as tf.keras.layers.LSTMCell, and will be replaced by that in Tensorflow 2.0.\n",
      "WARNING:tensorflow:From <ipython-input-9-ed883d967b89>:5: dynamic_rnn (from tensorflow.python.ops.rnn) is deprecated and will be removed in a future version.\n",
      "Instructions for updating:\n",
      "Please use `keras.layers.RNN(cell)`, which is equivalent to this API\n",
      "WARNING:tensorflow:From C:\\Users\\aeavy\\anaconda3\\envs\\py365\\lib\\site-packages\\tensorflow_core\\python\\ops\\rnn_cell_impl.py:735: Layer.add_variable (from tensorflow.python.keras.engine.base_layer) is deprecated and will be removed in a future version.\n",
      "Instructions for updating:\n",
      "Please use `layer.add_weight` method instead.\n",
      "WARNING:tensorflow:From C:\\Users\\aeavy\\anaconda3\\envs\\py365\\lib\\site-packages\\tensorflow_core\\python\\ops\\rnn_cell_impl.py:739: calling Zeros.__init__ (from tensorflow.python.ops.init_ops) with dtype is deprecated and will be removed in a future version.\n",
      "Instructions for updating:\n",
      "Call initializer instance with the dtype argument instead of passing it to the constructor\n",
      "WARNING:tensorflow:From C:\\Users\\aeavy\\anaconda3\\envs\\py365\\lib\\site-packages\\tensorflow_core\\contrib\\layers\\python\\layers\\layers.py:1866: Layer.apply (from tensorflow.python.keras.engine.base_layer) is deprecated and will be removed in a future version.\n",
      "Instructions for updating:\n",
      "Please use `layer.__call__` method instead.\n"
     ]
    }
   ],
   "source": [
    "#build a LSTM network (build Rnn)\n",
    "#tensorflow를 이용하면 LSTM 구조를 cell 형태로 빠르고 쉽게 생성해준다.\n",
    "cell = tf.contrib.rnn.BasicLSTMCell(num_units=hidden_dim, state_is_tuple=True,activation=tf.tanh)\n",
    "#생성된 cell을 dynamic_rnn함수로 활성화 시켜준다. 파라미터로 생성된 cell과 input placeholder를 넘겨주고 리턴값으로 output을 받는다.\n",
    "outputs, _states = tf.nn.dynamic_rnn(cell, X, dtype = tf.float32)\n",
    "#그 후 출력된 output을 fully_connected에 통과 시켜 최종 예측값을 리턴 받는다.\n",
    "Y_pred = tf.contrib.layers.fully_connected(outputs[:, -1], output_dim, activation_fn=tf.tanh)"
   ]
  },
  {
   "cell_type": "code",
   "execution_count": null,
   "id": "7b229183",
   "metadata": {},
   "outputs": [],
   "source": []
  }
 ],
 "metadata": {
  "kernelspec": {
   "display_name": "Python 3",
   "language": "python",
   "name": "python3"
  },
  "language_info": {
   "codemirror_mode": {
    "name": "ipython",
    "version": 3
   },
   "file_extension": ".py",
   "mimetype": "text/x-python",
   "name": "python",
   "nbconvert_exporter": "python",
   "pygments_lexer": "ipython3",
   "version": "3.6.5"
  }
 },
 "nbformat": 4,
 "nbformat_minor": 5
}
